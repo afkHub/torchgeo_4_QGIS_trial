{
 "cells": [
  {
   "cell_type": "code",
   "execution_count": null,
   "id": "3d92b0f1",
   "metadata": {
    "id": "entire-albania"
   },
   "outputs": [],
   "source": [
    "import os\n",
    "import tempfile\n",
    "\n",
    "import kornia.augmentation as K\n",
    "from torchvision import transforms\n",
    "\n",
    "import torch\n",
    "from torch import nn, optim\n",
    "from torch.utils.data import DataLoader\n",
    "\n",
    "from torchgeo.datasets import EuroSAT\n",
    "from torchgeo.models import ResNet18_Weights, resnet18\n",
    "\n",
    "from tqdm import tqdm #for time counting\n",
    "\n",
    "torch.manual_seed(0)"
   ]
  },
  {
   "cell_type": "code",
   "execution_count": null,
   "id": "fa0c5a0c-ac4c-44c5-9fb7-fe4be07a0f01",
   "metadata": {},
   "outputs": [],
   "source": [
    "root = 'torchgeo_data'\n",
    "dataset = EuroSAT(root, download=True, checksum=True)\n"
   ]
  },
  {
   "cell_type": "code",
   "execution_count": null,
   "id": "4785cddb-9821-4a2a-aa86-c08ffb6f2ebc",
   "metadata": {},
   "outputs": [],
   "source": [
    "train_dataset = EuroSAT(root, split='train')\n",
    "val_dataset = EuroSAT(root, split='val')\n",
    "test_dataset = EuroSAT(root, split='test')"
   ]
  },
  {
   "cell_type": "code",
   "execution_count": null,
   "id": "8909c035-cbe9-49b6-8380-360914093f9a",
   "metadata": {},
   "outputs": [],
   "source": [
    "batch_size = 32\n",
    "\n",
    "train_dataloader = DataLoader(train_dataset, batch_size, shuffle=True)\n",
    "val_dataloader = DataLoader(val_dataset, batch_size, shuffle=False)\n",
    "test_dataloader = DataLoader(test_dataset, batch_size, shuffle=False)\n",
    "\n",
    "#print the sizes of the datasets\n",
    "print(f\"Number of samples in the training set: {len(train_dataloader)}\")\n",
    "print(f\"Number of samples in the validation set: {len(val_dataloader)}\")\n",
    "print(f\"Number of samples in the testing set: {len(test_dataloader)}\")"
   ]
  },
  {
   "cell_type": "code",
   "execution_count": null,
   "id": "efc0152c-e7e4-4f06-9418-9d2c5dd803c3",
   "metadata": {},
   "outputs": [],
   "source": [
    "# Preprocessing and augmentation\n",
    "preprocess = K.Normalize(0, 10000)\n",
    "augment = K.ImageSequential(K.RandomHorizontalFlip(), K.RandomVerticalFlip(), \n",
    "                            K.RandomRotation(degrees=10))\n"
   ]
  },
  {
   "cell_type": "code",
   "execution_count": null,
   "id": "c7cda7a8-2cd6-46a0-a1c2-bafc751a23f2",
   "metadata": {
    "scrolled": true
   },
   "outputs": [],
   "source": [
    "# model and device setup\n",
    "model = resnet18(ResNet18_Weights.SENTINEL2_ALL_MOCO)\n",
    "loss_fn = nn.CrossEntropyLoss()\n",
    "optimizer = optim.Adam(model.parameters(), lr=0.0001)\n",
    "\n",
    "device = 'cuda' if torch.cuda.is_available() else 'cpu'\n",
    "model = model.to(device)\n",
    "model.eval()"
   ]
  },
  {
   "cell_type": "code",
   "execution_count": null,
   "id": "d235772d-475e-42e7-bc7c-f50729ee0e22",
   "metadata": {},
   "outputs": [],
   "source": [
    "# training function with progress tracking\n",
    "def train(dataloader):\n",
    "    model.train()\n",
    "    total_loss = 0\n",
    "    correct = 0\n",
    "    total = 0\n",
    "\n",
    "    progress_bar = tqdm(enumerate(dataloader), total=len(dataloader), desc=\"Training\")\n",
    "    for i, batch in progress_bar:\n",
    "        x = batch['image'].to(device)\n",
    "        y = batch['label'].to(device)\n",
    "\n",
    "        # Apply augmentation and preprocessing\n",
    "        x = preprocess(augment(x))\n",
    "\n",
    "        # Forward pass\n",
    "        y_hat = model(x)\n",
    "        loss = loss_fn(y_hat, y)\n",
    "        total_loss += loss.item() * x.size(0)\n",
    "\n",
    "        # Backward pass\n",
    "        loss.backward()\n",
    "        optimizer.step()\n",
    "        optimizer.zero_grad()\n",
    "\n",
    "        # accuracy calculation\n",
    "        _, predicted = y_hat.max(1)\n",
    "        correct += predicted.eq(y).sum().item()\n",
    "        total += y.size(0)\n",
    "\n",
    "        progress_bar.set_postfix(loss=total_loss / (i + 1), accuracy=100. * correct / total)"
   ]
  },
  {
   "cell_type": "code",
   "execution_count": null,
   "id": "3bddce3b-ed2f-4a5c-b3c6-2f1a3a51c2d9",
   "metadata": {},
   "outputs": [],
   "source": [
    "# evaluation function\n",
    "def evaluate(dataloader):\n",
    "    model.eval()\n",
    "    correct = 0\n",
    "    total = 0\n",
    "\n",
    "    with torch.no_grad():\n",
    "        for batch in dataloader:\n",
    "            x = batch['image'].to(device)\n",
    "            y = batch['label'].to(device)\n",
    "\n",
    "            # Apply preprocessing\n",
    "            x = preprocess(x)\n",
    "\n",
    "            # Forward pass\n",
    "            y_hat = model(x)\n",
    "            _, predicted = y_hat.max(1)\n",
    "            correct += predicted.eq(y).sum().item()\n",
    "            total += y.size(0)\n",
    "\n",
    "    accuracy = correct / total\n",
    "    print(f'Accuracy: {accuracy:.2%}')"
   ]
  },
  {
   "cell_type": "code",
   "execution_count": null,
   "id": "97601568-ba75-443d-81cf-494956b2924c",
   "metadata": {},
   "outputs": [],
   "source": [
    "# Training loop\n",
    "epochs = 10\n",
    "for epoch in range(epochs):\n",
    "    print(f'Epoch: {epoch +1}')\n",
    "    train(train_dataloader)\n",
    "    evaluate(val_dataloader)"
   ]
  },
  {
   "cell_type": "code",
   "execution_count": null,
   "id": "7cd0bd25-e19a-4b26-94a1-fe9a544e8afd",
   "metadata": {},
   "outputs": [],
   "source": [
    "evaluate(test_dataloader)"
   ]
  },
  {
   "cell_type": "code",
   "execution_count": null,
   "id": "891b63b4-0f93-4c2d-92be-bad8d01eca53",
   "metadata": {},
   "outputs": [],
   "source": [
    "# saving the model\n",
    "torch.save(model, 'torchgeo_data/models/torchgeo_resnet18.pth')\n",
    "torch.save(model.state_dict(), 'torchgeo_data/models/torchgeo_resnet18_weights.pth')"
   ]
  },
  {
   "cell_type": "code",
   "execution_count": null,
   "id": "8c927119-333c-43f9-bdec-4c37ff8bedac",
   "metadata": {},
   "outputs": [],
   "source": []
  }
 ],
 "metadata": {
  "colab": {
   "collapsed_sections": [],
   "name": "getting_started.ipynb",
   "provenance": []
  },
  "execution": {
   "timeout": 1200
  },
  "kernelspec": {
   "display_name": "Python 3 (ipykernel)",
   "language": "python",
   "name": "python3"
  },
  "language_info": {
   "codemirror_mode": {
    "name": "ipython",
    "version": 3
   },
   "file_extension": ".py",
   "mimetype": "text/x-python",
   "name": "python",
   "nbconvert_exporter": "python",
   "pygments_lexer": "ipython3",
   "version": "3.12.1"
  }
 },
 "nbformat": 4,
 "nbformat_minor": 5
}
